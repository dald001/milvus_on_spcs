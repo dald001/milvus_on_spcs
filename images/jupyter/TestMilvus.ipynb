{
    "cells": [
        {
            "cell_type": "code",
            "execution_count": 14,
            "id": "73c9f4d5-0522-42c6-b694-7a2b9d2eacf4",
            "metadata": {

            },
            "outputs": [

            ],
            "source": [
                "from pymilvus import MilvusClient\n",
                "from pymilvus import DataType\n",
                "import os\n",
                "import model\n",
                "\n",
                "print(\"Connecting...\")\n",
                "\n",
                "# init client\n",
                "client = MilvusClient(\n",
                "uri=\"http://milvus:19530\",\n",
                ")\n",
                "\n",
                "# init model\n",
                "model = model.Onnx()\n",
                "\n",
                "print(\"Success!\")\n"
            ]
        },
        {
            "cell_type": "code",
            "execution_count": 17,
            "id": "9a80737c-ee87-495b-ae44-ef7976e153d4",
            "metadata": {

            },
            "outputs": [

            ],
            "source": [
                "# Create a collection in quick setup mode\n",
                "client.create_collection(\n",
                "collection_name=\"quick_demo\",\n",
                "dimension=model.dimension,\n",
                ")\n",
                "\n",
                "print(\"Collection Created!\")\n",
                "\n"
            ]
        },
        {
            "cell_type": "code",
            "execution_count": 20,
            "id": "7e022b2a-606e-457d-9d24-c66e2a3405b2",
            "metadata": {

            },
            "outputs": [

            ],
            "source": [
                "# Data from which embeddings are to be generated\n",
                "docs=[\n",
                "\"Artificial intelligence was founded as an academic discipline in 1956.\",\n",
                "\"Alan Turing was the first person to conduct substantial research in AI.\",\n",
                "\"Born in Maida Vale, London, Turing was raised in southern England.\",\n",
                "]\n",
                "\n",
                "# Insert data into the collection\n",
                "data=[]\n",
                "for i in range(len(docs)):\n",
                "data.append({\n",
                "'id': i,\n",
                "'vector': model.to_embeddings(docs[i]),\n",
                "'doc_str': docs[i]\n",
                "})\n",
                "\n",
                "res = client.insert(\n",
                "collection_name=\"quick_demo\",\n",
                "data=data\n",
                ")\n",
                "\n",
                "print(\"Data inserted into Milvus!\")\n",
                "print(res)"
            ]
        },
        {
            "cell_type": "code",
            "execution_count": 25,
            "id": "390216d8-17c6-4a3f-9e7e-d9b6f5eacb4e",
            "metadata": {

            },
            "outputs": [

            ],
            "source": [
                "# Search with a text query\n",
                "query = \"Who started AI research?\"\n",
                "query_embeddings = model.to_embeddings(query)\n",
                "\n",
                "res = client.search(\n",
                "collection_name=\"quick_demo\",\n",
                "data=[query_embeddings],\n",
                "limit=1,\n",
                "output_fields=[\"doc_str\"],\n",
                ")\n",
                "\n",
                "print(res)\n"
            ]
        }
    ],
    "metadata": {
        "kernelspec": {
            "display_name": "Python 3 (ipykernel)",
            "language": "python",
            "name": "python3"
        },
        "language_info": {
            "codemirror_mode": {
                "name": "ipython",
                "version": 3
            },
            "file_extension": ".py",
            "mimetype": "text/x-python",
            "name": "python",
            "nbconvert_exporter": "python",
            "pygments_lexer": "ipython3",
            "version": "3.11.6"
        }
    },
    "nbformat": 4,
    "nbformat_minor": 5
}

